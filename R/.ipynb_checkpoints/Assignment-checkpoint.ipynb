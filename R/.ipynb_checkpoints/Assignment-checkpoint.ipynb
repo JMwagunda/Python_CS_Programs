{
 "cells": [
  {
   "cell_type": "markdown",
   "id": "8549583a-690d-4a5f-94be-5fb2e5551cfb",
   "metadata": {},
   "source": [
    "## ASSSIGNMENT"
   ]
  },
  {
   "cell_type": "code",
   "execution_count": 58,
   "id": "edf17451-c8ae-4d78-9900-20818085c178",
   "metadata": {},
   "outputs": [],
   "source": [
    "# Load required libraries\n",
    "library(readxl)\n",
    "\n",
    "# 1. Import the datafile into R and create a new dataframe called id.t\n",
    "birthweight_data <- read_excel(\"Birthweight_data.xlsx\")\n",
    "id.t <- birthweight_data"
   ]
  },
  {
   "cell_type": "code",
   "execution_count": 59,
   "id": "180bc9e2-c784-4a44-a20a-269bb3dfa803",
   "metadata": {},
   "outputs": [],
   "source": [
    "# 2. Create a new dataframe with just ID and the variables collected about the newborn only\n",
    "newborn_data <- select(id.t, id, length, Birthweight, headcirumference, Gestation, lowbwt)\n"
   ]
  },
  {
   "cell_type": "code",
   "execution_count": 61,
   "id": "bd3dfd63-33d5-4f8b-948e-50366c0fba8e",
   "metadata": {},
   "outputs": [],
   "source": [
    "# 3. Create a new dataframe for mothers who smoke only, across all variables.\n",
    "smoking_mothers_data <- filter(id.t, smoker == 1)"
   ]
  },
  {
   "cell_type": "code",
   "execution_count": 62,
   "id": "c3f1147a-1a79-45b3-8289-d98d5e061794",
   "metadata": {},
   "outputs": [],
   "source": [
    "# 4. Create a new dataframe for babies with low birth weight (lowbwt) and mothers who are over 35 (mage35)\n",
    "low_birthweight_mothers_over_35 <- filter(id.t, lowbwt == 1 & mage35 == 1)"
   ]
  },
  {
   "cell_type": "code",
   "execution_count": 51,
   "id": "bcebf706-8862-408b-8b4a-e759f7ca431c",
   "metadata": {},
   "outputs": [],
   "source": [
    "# 5. Create a new variable that is the total number of cigarettes smoked by the mother and father\n",
    "id.t$total_cigarettes <- id.t$mnocig + id.t$fnocig"
   ]
  },
  {
   "cell_type": "code",
   "execution_count": 63,
   "id": "9311b75f-b375-4c11-b554-46fa3109e995",
   "metadata": {},
   "outputs": [],
   "source": [
    "# 6. Compute the average Birthweight of the newborn for mothers who are over 35 and mothers who are not over 35\n",
    "average_birthweight_over_35 <- mean(id.t$Birthweight[id.t$mage35 == 1], na.rm = TRUE)\n",
    "average_birthweight_under_35 <- mean(id.t$Birthweight[id.t$mage35 == 0], na.rm = TRUE)\n"
   ]
  },
  {
   "cell_type": "markdown",
   "id": "d6b2c4ce-2245-457a-81a0-2e388b5050b0",
   "metadata": {},
   "source": [
    "\n",
    "## PART B"
   ]
  },
  {
   "cell_type": "code",
   "execution_count": 64,
   "id": "349ea1c0-7416-42d2-9fbf-bdc28b842610",
   "metadata": {},
   "outputs": [],
   "source": [
    "\n",
    "# Data for number of swarms\n",
    "counties <- c(\"Meru\", \"Embu\", \"Tharaka\", \"Isiolo\", \"Kajiado\")\n",
    "swarms <- c(90, 50, 42, 180, 120)\n",
    "swarms_data <- data.frame(County = counties, Swarms = swarms)"
   ]
  },
  {
   "cell_type": "code",
   "execution_count": 65,
   "id": "75d975ae-e34b-4c33-80ba-eb12e1351251",
   "metadata": {},
   "outputs": [],
   "source": [
    "# i. Read the data to R as vectors\n",
    "county_labels <- swarms_data$County\n",
    "swarms_values <- swarms_data$Swarms"
   ]
  },
  {
   "cell_type": "code",
   "execution_count": 29,
   "id": "9e861bc9-a761-409d-a2ef-f5f99e719e87",
   "metadata": {},
   "outputs": [
    {
     "name": "stdout",
     "output_type": "stream",
     "text": [
      "NULL\n"
     ]
    },
    {
     "data": {
      "image/png": "[encoded data removed]",
      "text/plain": [
       "Plot with title \"Number of Swarms by County\""
      ]
     },
     "metadata": {},
     "output_type": "display_data"
    }
   ],
   "source": [
    "# ii. Plot a well-labelled pie chart\n",
    "print(pie(swarms_values, labels = county_labels, main = \"Number of Swarms by County\", col = rainbow(length(counties))))\n"
   ]
  },
  {
   "cell_type": "code",
   "execution_count": 66,
   "id": "b45bde12-3133-4e48-87c7-060be5cbb4bc",
   "metadata": {},
   "outputs": [
    {
     "name": "stdout",
     "output_type": "stream",
     "text": [
      "NULL\n"
     ]
    },
    {
     "data": {
      "image/png": "[encoded data removed]",
      "text/plain": [
       "Plot with title \"Number of Swarms by County\""
      ]
     },
     "metadata": {},
     "output_type": "display_data"
    }
   ],
   "source": [
    "# iii. Show the legend in (ii) above at the top right corner\n",
    "print(pie(swarms_values, labels = county_labels, main = \"Number of Swarms by County\", col = rainbow(length(counties))))\n",
    "legend(\"topright\", legend = county_labels, fill = rainbow(length(counties)), title = \"Counties\")"
   ]
  },
  {
   "cell_type": "code",
   "execution_count": null,
   "id": "4fec8b52-7c81-4802-a9e7-7db29ebf8205",
   "metadata": {},
   "outputs": [],
   "source": []
  },
  {
   "cell_type": "code",
   "execution_count": null,
   "id": "c46c4118-4ca2-4248-ad69-b52e133054a2",
   "metadata": {},
   "outputs": [],
   "source": []
  }
 ],
 "metadata": {
  "kernelspec": {
   "display_name": "R",
   "language": "R",
   "name": "ir"
  },
  "language_info": {
   "codemirror_mode": "r",
   "file_extension": ".r",
   "mimetype": "text/x-r-source",
   "name": "R",
   "pygments_lexer": "r",
   "version": "3.6.1"
  }
 },
 "nbformat": 4,
 "nbformat_minor": 5
}
